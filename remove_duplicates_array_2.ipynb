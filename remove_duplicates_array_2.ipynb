{
 "cells": [
  {
   "cell_type": "code",
   "execution_count": 4,
   "metadata": {},
   "outputs": [],
   "source": [
    "# My Solution:\n",
    "\n",
    "class Solution(object):\n",
    "    def removeDuplicates(self, nums):\n",
    "        \"\"\"\n",
    "        :type nums: List[int]\n",
    "        :rtype: int\n",
    "        \"\"\"\n",
    "        \n",
    "        # Start the second pointer at index one since index 0 is already included\n",
    "        j = 1\n",
    "        \n",
    "        # Again, no need to check index 0, so we can start i at 1\n",
    "        for i in range(1, len(nums)):\n",
    "            \n",
    "            # If j == 1 or the current element is not equal to two elements back, reassign the duplicate slot\n",
    "            # to the current element, overwriting a duplicate more than twice. Then increment j to update\n",
    "            # the second pointer. Draw this out for a better picture\n",
    "            if j == 1 or nums[i] != nums[j - 2]:\n",
    "                nums[j] = nums[i]\n",
    "                j += 1\n",
    "        \n",
    "        # Return j, which should now indicate the # of elements in the new array\n",
    "        return j\n",
    "            "
   ]
  },
  {
   "cell_type": "code",
   "execution_count": 5,
   "metadata": {},
   "outputs": [
    {
     "name": "stdout",
     "output_type": "stream",
     "text": [
      "5\n",
      "7\n"
     ]
    }
   ],
   "source": [
    "sol = Solution()\n",
    "print(sol.removeDuplicates([1,1,1,2,2,3])) # Expected: 5\n",
    "print(sol.removeDuplicates([0,0,1,1,1,1,2,3,3])) # Expected: 7"
   ]
  }
 ],
 "metadata": {
  "kernelspec": {
   "display_name": "venv",
   "language": "python",
   "name": "python3"
  },
  "language_info": {
   "codemirror_mode": {
    "name": "ipython",
    "version": 3
   },
   "file_extension": ".py",
   "mimetype": "text/x-python",
   "name": "python",
   "nbconvert_exporter": "python",
   "pygments_lexer": "ipython3",
   "version": "3.13.2"
  }
 },
 "nbformat": 4,
 "nbformat_minor": 2
}
