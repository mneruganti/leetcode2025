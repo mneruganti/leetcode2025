{
 "cells": [
  {
   "cell_type": "code",
   "execution_count": 2,
   "metadata": {},
   "outputs": [
    {
     "name": "stdout",
     "output_type": "stream",
     "text": [
      "2\n",
      "5\n",
      "0\n"
     ]
    }
   ],
   "source": [
    "# My solution: \n",
    "\n",
    "class Solution(object):\n",
    "    def maxProfit(self, prices):\n",
    "        \"\"\"\n",
    "        :type prices: List[int]\n",
    "        :rtype: int\n",
    "        \"\"\"\n",
    "\n",
    "        buy = prices[0] # This is the variable that keeps track of when to buy the stock\n",
    "        max_profit = 0 # This keeps track of the max profit made\n",
    "        \n",
    "        # loop through every element in prices, except the first one since we already accounted for that\n",
    "        # by setting the buy variable = to the first element\n",
    "        for i in range(1, len(prices)): \n",
    "            \n",
    "            # if the next element is smaller than the current buying price, \n",
    "            # set the new buying price to the smallet element because we want to find the minimum element\n",
    "            # This is a case of buy low sell high\n",
    "            if (prices[i] < buy):\n",
    "                    buy = prices[i]\n",
    "            \n",
    "            # If the current price minus the buying price (current profit) is greater than the max profit,\n",
    "            # We can replace the max_profit with the current profit because we are aiming for the highest profit\n",
    "            elif (prices[i] - buy) > max_profit:\n",
    "                max_profit = prices[i] - buy\n",
    "        \n",
    "        # Finally, return the max_profit once the loop is complete, or 0 if max_profit is <= 0\n",
    "        return max_profit\n",
    "\n",
    "\n",
    "sol = Solution()\n",
    "\n",
    "print(sol.maxProfit([2,4,1])) # Expected Output: 2\n",
    "print(sol.maxProfit([7,1,5,3,6,4])) # Expected Output: 5\n",
    "print(sol.maxProfit([7,6,4,3,1])) # Expected Output: 0"
   ]
  }
 ],
 "metadata": {
  "kernelspec": {
   "display_name": "venv",
   "language": "python",
   "name": "python3"
  },
  "language_info": {
   "codemirror_mode": {
    "name": "ipython",
    "version": 3
   },
   "file_extension": ".py",
   "mimetype": "text/x-python",
   "name": "python",
   "nbconvert_exporter": "python",
   "pygments_lexer": "ipython3",
   "version": "3.13.2"
  }
 },
 "nbformat": 4,
 "nbformat_minor": 2
}
