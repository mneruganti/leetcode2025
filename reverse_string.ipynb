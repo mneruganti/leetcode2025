{
 "cells": [
  {
   "cell_type": "code",
   "execution_count": 1,
   "metadata": {},
   "outputs": [],
   "source": [
    "# My Solution:\n",
    "\n",
    "class Solution_One(object):\n",
    "    def reverseWords(self, s):\n",
    "        \"\"\"\n",
    "        :type s: str\n",
    "        :rtype: str\n",
    "        \"\"\"\n",
    "        \n",
    "        # .strip() removes and trailing/leading whitespaces\n",
    "        s = s.strip()\n",
    "        \n",
    "        # .split() splits the words for every space\n",
    "        words = s.split()\n",
    "        \n",
    "        # if there are double spaces or more in the string,\n",
    "        # this removes every space from the words list\n",
    "        while ' ' in words:\n",
    "            words.remove(' ')\n",
    "        \n",
    "        output = ''\n",
    "        \n",
    "        # for every element in words\n",
    "        for i in range(len(words)):\n",
    "            \n",
    "            # append the words from the back of the list to the string\n",
    "            output += words[len(words) - 1 - i]\n",
    "            \n",
    "            # only add a space if the words are not the last word to be added\n",
    "            if i != len(words) - 1:\n",
    "                output += \" \"\n",
    "        \n",
    "        # return output\n",
    "        return output"
   ]
  },
  {
   "cell_type": "code",
   "execution_count": 2,
   "metadata": {},
   "outputs": [],
   "source": [
    "# Optimal Solution:\n",
    "\n",
    "class Solution_Two(object):\n",
    "    def reverseWords(self, s):\n",
    "        \n",
    "        # strip and split in one line\n",
    "        word = s.strip().split()\n",
    "        \n",
    "        # reverse the list\n",
    "        word.reverse()\n",
    "        \n",
    "        # append the list together, joined by spaces\n",
    "        return \" \".join(word)"
   ]
  },
  {
   "cell_type": "code",
   "execution_count": 7,
   "metadata": {},
   "outputs": [
    {
     "name": "stdout",
     "output_type": "stream",
     "text": [
      "blue is sky the\n",
      "world hello\n",
      "example good a\n"
     ]
    }
   ],
   "source": [
    "sol1 = Solution_One()\n",
    "\n",
    "print(sol1.reverseWords(\"the sky is blue\")) # Expected: blue is sky the\n",
    "print(sol1.reverseWords(\"  hello world  \")) # Expected: world hello\n",
    "print(sol1.reverseWords(\"a good   example\")) # Expected: example good a"
   ]
  },
  {
   "cell_type": "code",
   "execution_count": 8,
   "metadata": {},
   "outputs": [
    {
     "name": "stdout",
     "output_type": "stream",
     "text": [
      "blue is sky the\n",
      "world hello\n",
      "example good a\n"
     ]
    }
   ],
   "source": [
    "sol2 = Solution_Two()\n",
    "\n",
    "print(sol2.reverseWords(\"the sky is blue\")) # Expected: blue is sky the\n",
    "print(sol2.reverseWords(\"  hello world  \")) # Expected: world hello\n",
    "print(sol2.reverseWords(\"a good   example\")) # Expected: example good a"
   ]
  }
 ],
 "metadata": {
  "kernelspec": {
   "display_name": "venv",
   "language": "python",
   "name": "python3"
  },
  "language_info": {
   "codemirror_mode": {
    "name": "ipython",
    "version": 3
   },
   "file_extension": ".py",
   "mimetype": "text/x-python",
   "name": "python",
   "nbconvert_exporter": "python",
   "pygments_lexer": "ipython3",
   "version": "3.13.2"
  }
 },
 "nbformat": 4,
 "nbformat_minor": 2
}
