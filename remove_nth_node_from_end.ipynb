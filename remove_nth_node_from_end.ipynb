{
 "cells": [
  {
   "cell_type": "code",
   "execution_count": 4,
   "metadata": {},
   "outputs": [],
   "source": [
    "# Definition for singly-linked list.\n",
    "class ListNode(object):\n",
    "    def __init__(self, val=0, next=None):\n",
    "        self.val = val\n",
    "        self.next = next\n",
    "    \n",
    "     # toString to print the nodes for testing\n",
    "    def __repr__(self):\n",
    "        return f\"Value={self.val}, \\n{repr(self.next)}\"  "
   ]
  },
  {
   "cell_type": "code",
   "execution_count": 5,
   "metadata": {},
   "outputs": [],
   "source": [
    "# My Solution:\n",
    "\n",
    "class Solution(object):\n",
    "    def removeNthFromEnd(self, head, n):\n",
    "        \"\"\"\n",
    "        :type head: Optional[ListNode]\n",
    "        :type n: int\n",
    "        :rtype: Optional[ListNode]\n",
    "        \"\"\"\n",
    "\n",
    "        # temp pointer to keep track of current pos\n",
    "        temp = head\n",
    "        list_size = 0\n",
    "        \n",
    "        # count how many nodes in list\n",
    "        while temp:\n",
    "            list_size += 1\n",
    "            temp = temp.next\n",
    "        \n",
    "        # if the size and n are equal, this means the head of the list must be removed\n",
    "        # so i move head to the next and return head\n",
    "        if list_size == n:\n",
    "            head = head.next\n",
    "            return head\n",
    "        \n",
    "        # reset temp from the tail to the head again\n",
    "        temp = head\n",
    "        \n",
    "        # initialize a previous pointer for ease\n",
    "        previous = head\n",
    "        \n",
    "        # Loop until the difference of the list size minus n, moving the pointer\n",
    "        # to the desired location, instead moving from the front. Update the prev pointer as well\n",
    "        for i in range(list_size - n):\n",
    "            previous = temp\n",
    "            temp = temp.next\n",
    "        \n",
    "        # Finally, set the previous's next to the current location's next, removing the nth node from the back\n",
    "        previous.next = temp.next\n",
    "        \n",
    "        # return head\n",
    "        return head\n",
    "        "
   ]
  },
  {
   "cell_type": "code",
   "execution_count": 9,
   "metadata": {},
   "outputs": [
    {
     "name": "stdout",
     "output_type": "stream",
     "text": [
      "Value=1, \n",
      "Value=2, \n",
      "Value=3, \n",
      "Value=5, \n",
      "None\n",
      "\n",
      "\n",
      "None\n",
      "\n",
      "\n",
      "Value=1, \n",
      "None\n",
      "\n",
      "\n"
     ]
    }
   ],
   "source": [
    "sol = Solution()\n",
    "\n",
    "print(sol.removeNthFromEnd(ListNode(1, ListNode(2, ListNode(3, ListNode(4, ListNode(5, None))))), 2)) # Expected: [1,2,3,5]\n",
    "print(f\"\\n\")\n",
    "print(sol.removeNthFromEnd(ListNode(1, None), 1)) # Expected: []\n",
    "print(f\"\\n\")\n",
    "print(sol.removeNthFromEnd(ListNode(1, ListNode(2, None)), 1)) # Expected: [1]\n",
    "print(f\"\\n\")"
   ]
  }
 ],
 "metadata": {
  "kernelspec": {
   "display_name": "venv",
   "language": "python",
   "name": "python3"
  },
  "language_info": {
   "codemirror_mode": {
    "name": "ipython",
    "version": 3
   },
   "file_extension": ".py",
   "mimetype": "text/x-python",
   "name": "python",
   "nbconvert_exporter": "python",
   "pygments_lexer": "ipython3",
   "version": "3.13.2"
  }
 },
 "nbformat": 4,
 "nbformat_minor": 2
}
