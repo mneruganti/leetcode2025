{
 "cells": [
  {
   "cell_type": "code",
   "execution_count": 1,
   "metadata": {},
   "outputs": [],
   "source": [
    "# My Solution:\n",
    "\n",
    "class Solution(object):\n",
    "    def lengthOfLastWord(self, s):\n",
    "        \"\"\"\n",
    "        :type s: str\n",
    "        :rtype: int\n",
    "        \"\"\"\n",
    "        \n",
    "        # Remove white spaces at the ends and beginning and split it into an array of words split by spaces\n",
    "        words = s.strip().split()\n",
    "        \n",
    "        # return the length of the last element, which will be the last word\n",
    "        return len(words[len(words) - 1])"
   ]
  },
  {
   "cell_type": "code",
   "execution_count": 2,
   "metadata": {},
   "outputs": [
    {
     "name": "stdout",
     "output_type": "stream",
     "text": [
      "5\n",
      "4\n",
      "6\n"
     ]
    }
   ],
   "source": [
    "sol = Solution()\n",
    "print(sol.lengthOfLastWord(\"Hello World\")) # Expected: 5\n",
    "print(sol.lengthOfLastWord(\"   fly me   to   the moon  \")) # Expected: 4\n",
    "print(sol.lengthOfLastWord(\"luffy is still joyboy\")) # Expected: 6"
   ]
  }
 ],
 "metadata": {
  "kernelspec": {
   "display_name": "venv",
   "language": "python",
   "name": "python3"
  },
  "language_info": {
   "codemirror_mode": {
    "name": "ipython",
    "version": 3
   },
   "file_extension": ".py",
   "mimetype": "text/x-python",
   "name": "python",
   "nbconvert_exporter": "python",
   "pygments_lexer": "ipython3",
   "version": "3.13.2"
  }
 },
 "nbformat": 4,
 "nbformat_minor": 2
}
