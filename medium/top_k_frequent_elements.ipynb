{
 "cells": [
  {
   "cell_type": "code",
   "execution_count": 3,
   "metadata": {},
   "outputs": [],
   "source": [
    "# Solution: Bucket Sort\n",
    "\n",
    "class Solution:\n",
    "    def topKFrequent(self, nums, k: int):\n",
    "\n",
    "        count = {} # used to store counts\n",
    "        freq = [[] for i in range(len(nums) + 1)]\n",
    "\n",
    "        for n in nums:\n",
    "            count[n] = 1 + count.get(n,0) # default val of 0\n",
    "        for n,c in count.items():\n",
    "            freq[c].append(n)\n",
    "        \n",
    "        res = []\n",
    "\n",
    "        for i in range(len(freq)-1, 0, -1):\n",
    "            for n in freq[i]:\n",
    "                res.append(n)\n",
    "                if len(res) == k:\n",
    "                    return res\n",
    "\n",
    "\n",
    "        "
   ]
  },
  {
   "cell_type": "code",
   "execution_count": null,
   "metadata": {},
   "outputs": [
    {
     "name": "stdout",
     "output_type": "stream",
     "text": [
      "[3, 2]\n",
      "[7]\n"
     ]
    }
   ],
   "source": [
    "sol = Solution()\n",
    "\n",
    "print(sol.topKFrequent([1,2,2,3,3,3], 2)) # Expected: [3, 2]\n",
    "print(sol.topKFrequent([7,7], 1)) # Expected: [7]\n"
   ]
  }
 ],
 "metadata": {
  "kernelspec": {
   "display_name": "venv",
   "language": "python",
   "name": "python3"
  },
  "language_info": {
   "codemirror_mode": {
    "name": "ipython",
    "version": 3
   },
   "file_extension": ".py",
   "mimetype": "text/x-python",
   "name": "python",
   "nbconvert_exporter": "python",
   "pygments_lexer": "ipython3",
   "version": "3.13.2"
  }
 },
 "nbformat": 4,
 "nbformat_minor": 2
}
