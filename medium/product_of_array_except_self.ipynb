{
 "cells": [
  {
   "cell_type": "code",
   "execution_count": 2,
   "metadata": {},
   "outputs": [],
   "source": [
    "# Optimal Solution: Prefix/Postfix Array\n",
    "\n",
    "class Solution(object):\n",
    "    def productExceptSelf(self, nums):\n",
    "        \"\"\"\n",
    "        :type nums: List[int]\n",
    "        :rtype: List[int]\n",
    "        \"\"\"\n",
    "        \n",
    "        # Create the resulting array with n slots and 1 as a placeholder\n",
    "        res = [1] * (len(nums))\n",
    "        \n",
    "        # We start off with 1 as the default value for th prefix array because if there is no\n",
    "        # prefix (first element of array), then we just multiply the result by 1\n",
    "        prefix = 1\n",
    "        for i in range(len(nums)):\n",
    "            \n",
    "            # For every index i, we store prefix there, so the res array will have this format: [1,..,..,..] till n\n",
    "            res[i] = prefix\n",
    "            \n",
    "            # The way the prefix is being calculated is by multiplying every next number in the og array upon\n",
    "            # each iteration except for the first number. This way, we are able to keep a multiplying counter \n",
    "            # for each iteration and store it in res\n",
    "        \n",
    "            prefix *= nums[i]\n",
    "        \n",
    "        # Postfix is treated the same way, except we traverse the array backwards to get the \n",
    "        # back half of the array from i\n",
    "        \n",
    "        # range(start, stop, step)\n",
    "        postfix = 1\n",
    "        for i in range(len(nums) - 1, -1, -1):\n",
    "            \n",
    "            # The only difference here is that we now multiply the postfix part of the array to the \n",
    "            # prefix part, which is already stored in res.\n",
    "            res[i] *= postfix\n",
    "            postfix *= nums[i]\n",
    "        \n",
    "        # Return the results\n",
    "        return res"
   ]
  },
  {
   "cell_type": "code",
   "execution_count": 3,
   "metadata": {},
   "outputs": [
    {
     "name": "stdout",
     "output_type": "stream",
     "text": [
      "[24, 12, 8, 6]\n",
      "[0, 0, 9, 0, 0]\n"
     ]
    }
   ],
   "source": [
    "sol = Solution()\n",
    "print(sol.productExceptSelf([1,2,3,4])) # Expected: [24,12,8,6]\n",
    "print(sol.productExceptSelf([-1,1,0,-3,3])) # Expected: [0,0,9,0,0]"
   ]
  }
 ],
 "metadata": {
  "kernelspec": {
   "display_name": "venv",
   "language": "python",
   "name": "python3"
  },
  "language_info": {
   "codemirror_mode": {
    "name": "ipython",
    "version": 3
   },
   "file_extension": ".py",
   "mimetype": "text/x-python",
   "name": "python",
   "nbconvert_exporter": "python",
   "pygments_lexer": "ipython3",
   "version": "3.13.2"
  }
 },
 "nbformat": 4,
 "nbformat_minor": 2
}
