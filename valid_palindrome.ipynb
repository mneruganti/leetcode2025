{
 "cells": [
  {
   "cell_type": "code",
   "execution_count": 1,
   "metadata": {},
   "outputs": [],
   "source": [
    "# Solution One: Two Pointers\n",
    "\n",
    "\n",
    "class Solution_One(object):\n",
    "        def isPalindrome(self, s):\n",
    "            \"\"\"\n",
    "            Check if a string is a palindrome, ignoring non-alphanumeric characters\n",
    "            and case-sensitivity.\n",
    "        \n",
    "            :param s: Input string to check.\n",
    "            :return: True if s is a palindrome, False otherwise.\n",
    "            \"\"\"\n",
    "            \n",
    "            # Pointers at the start and end of the string.\n",
    "            left = 0\n",
    "            right = len(s) - 1\n",
    "        \n",
    "            while left < right:\n",
    "                # Skip non-alphanumeric characters by moving the left pointer forward.\n",
    "                if not s[left].isalnum():\n",
    "                    left += 1\n",
    "                # Skip non-alphanumeric characters by moving the right pointer backward.\n",
    "                elif not s[right].isalnum():\n",
    "                    right -= 1\n",
    "                # If the characters are alphanumeric and do not match, it's not a palindrome.\n",
    "                elif s[left].lower() != s[right].lower():\n",
    "                    return False\n",
    "                # If characters at the current pointers match, move both pointers towards center.\n",
    "                else:\n",
    "                    left += 1\n",
    "                    right -= 1\n",
    "        \n",
    "            # If we haven't found any mismatches, then it's a palindrome.\n",
    "            return True"
   ]
  },
  {
   "cell_type": "code",
   "execution_count": 2,
   "metadata": {},
   "outputs": [],
   "source": [
    "# Solution Two: My Solution\n",
    "\n",
    "class Solution_Two(object):\n",
    "    def isPalindrome(self, s):\n",
    "        \"\"\"\n",
    "        :type s: str\n",
    "        :rtype: bool\n",
    "        \"\"\"\n",
    "\n",
    "        s = ''.join(c for c in s if c.isalnum()).lower()\n",
    "        \n",
    "        return s == s[::-1]"
   ]
  },
  {
   "cell_type": "code",
   "execution_count": 3,
   "metadata": {},
   "outputs": [
    {
     "name": "stdout",
     "output_type": "stream",
     "text": [
      "True\n",
      "False\n",
      "True\n"
     ]
    }
   ],
   "source": [
    "sol1 = Solution_One()\n",
    "\n",
    "print(sol1.isPalindrome(\"A man, a plan, a canal: Panama\")) # Expected: True\n",
    "print(sol1.isPalindrome(\"race a car\")) # Expected: False\n",
    "print(sol1.isPalindrome(\" \")) # Expected: True\n"
   ]
  },
  {
   "cell_type": "code",
   "execution_count": 4,
   "metadata": {},
   "outputs": [
    {
     "name": "stdout",
     "output_type": "stream",
     "text": [
      "True\n",
      "False\n",
      "True\n"
     ]
    }
   ],
   "source": [
    "sol2 = Solution_Two()\n",
    "\n",
    "\n",
    "print(sol2.isPalindrome(\"A man, a plan, a canal: Panama\")) # Expected: True\n",
    "print(sol2.isPalindrome(\"race a car\")) # Expected: False\n",
    "print(sol2.isPalindrome(\" \")) # Expected: True"
   ]
  }
 ],
 "metadata": {
  "kernelspec": {
   "display_name": "venv",
   "language": "python",
   "name": "python3"
  },
  "language_info": {
   "codemirror_mode": {
    "name": "ipython",
    "version": 3
   },
   "file_extension": ".py",
   "mimetype": "text/x-python",
   "name": "python",
   "nbconvert_exporter": "python",
   "pygments_lexer": "ipython3",
   "version": "3.13.2"
  }
 },
 "nbformat": 4,
 "nbformat_minor": 2
}
