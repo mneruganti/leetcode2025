{
 "cells": [
  {
   "cell_type": "code",
   "execution_count": 18,
   "metadata": {},
   "outputs": [
    {
     "name": "stdout",
     "output_type": "stream",
     "text": [
      "Value=1, \n",
      "Value=1, \n",
      "Value=2, \n",
      "Value=3, \n",
      "Value=4, \n",
      "Value=4, \n",
      "None\n"
     ]
    }
   ],
   "source": [
    "# My Solution: \n",
    "\n",
    "# Definition for singly-linked list.\n",
    "class ListNode(object):\n",
    "    def __init__(self, val=0, next=None):\n",
    "        self.val = val\n",
    "        self.next = next\n",
    "    \n",
    "    # toString to print the nodes for testing\n",
    "    def __repr__(self):\n",
    "        return f\"Value={self.val}, \\n{repr(self.next)}\"  \n",
    "\n",
    "\n",
    "class Solution(object):\n",
    "    def mergeTwoLists(self, list1, list2):\n",
    "        \"\"\"\n",
    "        :type list1: Optional[ListNode]\n",
    "        :type list2: Optional[ListNode]\n",
    "        :rtype: Optional[ListNode]\n",
    "        \"\"\"\n",
    "        \n",
    "        # I create this dummyNode just to get the list started. This acts as the current head\n",
    "        # but will be skipped when returning the list\n",
    "        # I also use a temp variable as a cursor to monitor my position through the linked list\n",
    "        \n",
    "        dummyNode = ListNode(-1)\n",
    "        temp = dummyNode\n",
    "\n",
    "        curr1 = list1\n",
    "        curr2 = list2\n",
    "\n",
    "        # I use a while loop to only add elements to the list IF BOTH are not null,\n",
    "        # to avoid null pointer exceptions\n",
    "        \n",
    "        while curr1 and curr2:\n",
    "            \n",
    "            # If the list1 value is less than list 2, add the list 1 node to the linked list\n",
    "            # by accessing the temp's next variable and assigning curr1 to it.\n",
    "            # Then move curr1 over to accurately update the pointers\n",
    "            \n",
    "            if (curr1.val < curr2.val):\n",
    "                temp.next = curr1\n",
    "                curr1 = curr1.next\n",
    "            \n",
    "            # If the list1 value is greater than or equal to list 2, add the list 2 node to the linked list\n",
    "            # by accessing the temp's next variable and assigning curr2 to it.\n",
    "            # Then move curr2 over to accurately update the pointers  \n",
    "            \n",
    "            else:\n",
    "                temp.next = curr2\n",
    "                curr2 = curr2.next\n",
    "            \n",
    "            # move the temp pointer down every iteration\n",
    "            temp = temp.next\n",
    "        \n",
    "        # once one list is empty, simply add the non empty list to the end of the linked list\n",
    "        temp.next = curr1 if curr1 else curr2\n",
    "        \n",
    "        # Return the next of the \"head\" because we want to skip the dummyNode we originally created\n",
    "        return dummyNode.next\n",
    "\n",
    "        \n",
    "sol = Solution()\n",
    "print(sol.mergeTwoLists(ListNode(1, ListNode(2, ListNode(4, None))),\n",
    "                        ListNode(1, ListNode(3, ListNode(4, None)))))\n",
    "\n"
   ]
  }
 ],
 "metadata": {
  "kernelspec": {
   "display_name": "venv",
   "language": "python",
   "name": "python3"
  },
  "language_info": {
   "codemirror_mode": {
    "name": "ipython",
    "version": 3
   },
   "file_extension": ".py",
   "mimetype": "text/x-python",
   "name": "python",
   "nbconvert_exporter": "python",
   "pygments_lexer": "ipython3",
   "version": "3.13.2"
  }
 },
 "nbformat": 4,
 "nbformat_minor": 2
}
