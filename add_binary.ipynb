{
 "cells": [
  {
   "cell_type": "code",
   "execution_count": 1,
   "metadata": {},
   "outputs": [],
   "source": [
    "# My Solution:\n",
    "\n",
    "class Solution(object):\n",
    "    def addBinary(self, a, b):\n",
    "        \"\"\"\n",
    "        :type a: str\n",
    "        :type b: str\n",
    "        :rtype: str\n",
    "        \"\"\"\n",
    "        \n",
    "        # Convert the binary numbers to integers\n",
    "        int_a = int(a, 2)\n",
    "        int_b = int(b, 2)\n",
    "        \n",
    "        # add the integers together and store the binary version\n",
    "        int_sum = bin(int_a + int_b)\n",
    "        \n",
    "        # Remove the \"0b\" part from the beginning\n",
    "        return int_sum[2::]"
   ]
  },
  {
   "cell_type": "code",
   "execution_count": 2,
   "metadata": {},
   "outputs": [
    {
     "name": "stdout",
     "output_type": "stream",
     "text": [
      "10101\n",
      "100\n"
     ]
    }
   ],
   "source": [
    "sol = Solution()\n",
    "print(sol.addBinary(\"1010\", \"1011\")) # Expected: \"10101\"\n",
    "print(sol.addBinary(\"11\", \"1\")) # Expected: \"100"
   ]
  }
 ],
 "metadata": {
  "kernelspec": {
   "display_name": "venv",
   "language": "python",
   "name": "python3"
  },
  "language_info": {
   "codemirror_mode": {
    "name": "ipython",
    "version": 3
   },
   "file_extension": ".py",
   "mimetype": "text/x-python",
   "name": "python",
   "nbconvert_exporter": "python",
   "pygments_lexer": "ipython3",
   "version": "3.13.2"
  }
 },
 "nbformat": 4,
 "nbformat_minor": 2
}
