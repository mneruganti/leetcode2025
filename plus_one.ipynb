{
 "cells": [
  {
   "cell_type": "code",
   "execution_count": 1,
   "metadata": {},
   "outputs": [],
   "source": [
    "# My Solution:\n",
    "\n",
    "class Solution(object):\n",
    "    def plusOne(self, digits):\n",
    "        \"\"\"\n",
    "        :type digits: List[int]\n",
    "        :rtype: List[int]\n",
    "        \"\"\"\n",
    "        \n",
    "        # Using the map function, i apply str() on every element of digits and join them\n",
    "        # together by an empty string. I then convert this string to an int to get the\n",
    "        # number form of the list. I add one and then return a list by converting each\n",
    "        # element of the new number string to an int\n",
    "        \n",
    "        number = int(\"\".join(map(str, digits)))\n",
    "        number += 1\n",
    "        return [int(x) for x in str(number)]"
   ]
  },
  {
   "cell_type": "code",
   "execution_count": 2,
   "metadata": {},
   "outputs": [
    {
     "name": "stdout",
     "output_type": "stream",
     "text": [
      "[1, 2, 4]\n",
      "[4, 3, 2, 2]\n",
      "[1, 0]\n"
     ]
    }
   ],
   "source": [
    "sol = Solution()\n",
    "print(sol.plusOne([1,2,3])) # Expected: [1,2,4]\n",
    "print(sol.plusOne([4,3,2,1])) # Expected: [4,3,2,2]\n",
    "print(sol.plusOne([9])) # Expected: [1,0]"
   ]
  }
 ],
 "metadata": {
  "kernelspec": {
   "display_name": "venv",
   "language": "python",
   "name": "python3"
  },
  "language_info": {
   "codemirror_mode": {
    "name": "ipython",
    "version": 3
   },
   "file_extension": ".py",
   "mimetype": "text/x-python",
   "name": "python",
   "nbconvert_exporter": "python",
   "pygments_lexer": "ipython3",
   "version": "3.13.2"
  }
 },
 "nbformat": 4,
 "nbformat_minor": 2
}
