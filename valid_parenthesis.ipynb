{
 "cells": [
  {
   "cell_type": "code",
   "execution_count": 1,
   "metadata": {},
   "outputs": [
    {
     "name": "stdout",
     "output_type": "stream",
     "text": [
      "True\n",
      "True\n",
      "False\n",
      "True\n",
      "True\n",
      "False\n"
     ]
    }
   ],
   "source": [
    "# My Solution:\n",
    "\n",
    "class Solution(object):\n",
    "    def isValid(self, s):\n",
    "        \"\"\"\n",
    "        :type s: str\n",
    "        :rtype: bool\n",
    "        \"\"\"\n",
    "        stack = [] # Variable to store the open parenthesis\n",
    "        mapping = {\")\": \"(\", \"}\": \"{\", \"]\": \"[\"} # Dictionary that maps the pareenthesis pairs\n",
    "\n",
    "        # Iterate through every character in the input string\n",
    "        for char in s:\n",
    "            \n",
    "            # If the character is in the values of the dictionary,\n",
    "            # this means it is an open parentheses and must be added to the end of the stack\n",
    "            if char in mapping.values():\n",
    "                stack.append(char)\n",
    "                \n",
    "            # Otherwise, if the parenthesis is a closed parenthesis, \n",
    "            # meaning it is in the keys of the dictionary,\n",
    "            # then check if the stack is empty, or the last element of the stack does not match the\n",
    "            # specified value of the current char, making the parenthesis invalid (Return False).\n",
    "            elif char in mapping.keys():\n",
    "                if (not stack or mapping.get(char) != stack.pop()):\n",
    "                    return False\n",
    "\n",
    "        # Return not stack, meaning if the stack is empty, the parenthesis is balanced\n",
    "        return not stack\n",
    "\n",
    "sol = Solution()\n",
    "print(sol.isValid(\"()\"))  # Output: True\n",
    "print(sol.isValid(\"()[]{}\"))  # Output: True\n",
    "print(sol.isValid(\"(]\"))  # Output: False\n",
    "print(sol.isValid(\"([{}])\"))  # Output: True\n",
    "print(sol.isValid(\"((()))\")) # Output: True\n",
    "print(sol.isValid(\"(()))\")) # Output: False"
   ]
  }
 ],
 "metadata": {
  "kernelspec": {
   "display_name": "venv",
   "language": "python",
   "name": "python3"
  },
  "language_info": {
   "codemirror_mode": {
    "name": "ipython",
    "version": 3
   },
   "file_extension": ".py",
   "mimetype": "text/x-python",
   "name": "python",
   "nbconvert_exporter": "python",
   "pygments_lexer": "ipython3",
   "version": "3.13.2"
  }
 },
 "nbformat": 4,
 "nbformat_minor": 2
}
