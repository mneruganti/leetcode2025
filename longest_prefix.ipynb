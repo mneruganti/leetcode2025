{
 "cells": [
  {
   "cell_type": "code",
   "execution_count": 1,
   "metadata": {},
   "outputs": [],
   "source": [
    "# My Solution: \n",
    "\n",
    "class Solution(object):\n",
    "    def longestCommonPrefix(self, strs):\n",
    "        \"\"\"\n",
    "        :type strs: List[str]\n",
    "        :rtype: str\n",
    "        \"\"\"\n",
    "\n",
    "        # variable to store the prefix\n",
    "        prefix = \"\"\n",
    "        \n",
    "        # we have to sort the list alphabetically because then, the longest common prefix\n",
    "        # should be present in both the beginning and end of the list\n",
    "        strs = sorted(strs)\n",
    "\n",
    "        # get the beginning and last elements in the list\n",
    "        first = strs[0]\n",
    "        last = strs[-1]\n",
    "\n",
    "        # loop through the inidicies of the shorter element\n",
    "        for i in range(min(len(first), len(last))):\n",
    "            \n",
    "            # if the letters are not equal, return the current prefix\n",
    "            if (first[i] != last[i]):\n",
    "                return prefix\n",
    "            \n",
    "            # otherwise, add the next letter to the prefix\n",
    "            prefix += first[i]\n",
    "            \n",
    "        # return the final prefix\n",
    "        return prefix\n",
    "        "
   ]
  },
  {
   "cell_type": "code",
   "execution_count": 4,
   "metadata": {},
   "outputs": [
    {
     "name": "stdout",
     "output_type": "stream",
     "text": [
      "fl\n",
      "\n",
      "anim\n"
     ]
    }
   ],
   "source": [
    "sol = Solution()\n",
    "\n",
    "print(sol.longestCommonPrefix([\"flower\",\"flow\",\"flight\"])) # Expected: \"fl\"\n",
    "print(sol.longestCommonPrefix([\"dog\",\"racecar\",\"car\"])) # Expected: \"\"\n",
    "print(sol.longestCommonPrefix([\"animal\",\"animosity\",\"animated\"])) # Expected: \"anim\""
   ]
  }
 ],
 "metadata": {
  "kernelspec": {
   "display_name": "venv",
   "language": "python",
   "name": "python3"
  },
  "language_info": {
   "codemirror_mode": {
    "name": "ipython",
    "version": 3
   },
   "file_extension": ".py",
   "mimetype": "text/x-python",
   "name": "python",
   "nbconvert_exporter": "python",
   "pygments_lexer": "ipython3",
   "version": "3.13.2"
  }
 },
 "nbformat": 4,
 "nbformat_minor": 2
}
