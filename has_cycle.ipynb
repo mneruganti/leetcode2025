{
 "cells": [
  {
   "cell_type": "code",
   "execution_count": 1,
   "metadata": {},
   "outputs": [],
   "source": [
    "# Definition for singly-linked list.\n",
    "class ListNode(object):\n",
    "    def __init__(self, val=0, next=None):\n",
    "        self.val = val\n",
    "        self.next = next\n",
    "    \n",
    "     # toString to print the nodes for testing\n",
    "    def __repr__(self):\n",
    "        return f\"Value={self.val}, \\n{repr(self.next)}\"  "
   ]
  },
  {
   "cell_type": "code",
   "execution_count": 2,
   "metadata": {},
   "outputs": [],
   "source": [
    "# My Solution:\n",
    "\n",
    "class Solution(object):\n",
    "    def hasCycle(self, head):\n",
    "        \n",
    "        # Essentially, uses two pointers, where one lags behind by two nodes\n",
    "        slow = head\n",
    "        fast = head\n",
    "        \n",
    "        # while the faster pointer is not null, and its next is not null\n",
    "        while fast is not None and fast.next is not None:\n",
    "            \n",
    "            # Move the slow pointer one and the fast pointer two nodes\n",
    "            slow = slow.next\n",
    "            fast = fast.next.next\n",
    "            \n",
    "            # if they overlap (equal) that means there is a cycle and this will be True\n",
    "            if slow == fast:\n",
    "                return True \n",
    "            \n",
    "        # Otherwise, the output is False\n",
    "        return False"
   ]
  },
  {
   "cell_type": "code",
   "execution_count": 3,
   "metadata": {},
   "outputs": [
    {
     "name": "stdout",
     "output_type": "stream",
     "text": [
      "Test case 1: Passed\n",
      "Test case 2: Passed\n",
      "Test case 3: Passed\n",
      "Test case 4: Passed\n",
      "Test case 5: Passed\n"
     ]
    }
   ],
   "source": [
    "sol = Solution()\n",
    "\n",
    "\n",
    "def build_linked_list_with_cycle(values, pos):\n",
    "    \"\"\"\n",
    "    values: list of node values\n",
    "    pos: index at which the tail should connect to form a cycle; -1 means no cycle\n",
    "    Returns the head of the linked list\n",
    "    \"\"\"\n",
    "    if not values:\n",
    "        return None\n",
    "    nodes = [ListNode(val) for val in values]\n",
    "    for i in range(len(nodes) - 1):\n",
    "        nodes[i].next = nodes[i + 1]\n",
    "    if pos != -1:\n",
    "        nodes[-1].next = nodes[pos]\n",
    "    return nodes[0]\n",
    "\n",
    "# Test cases: (values, pos), expected output\n",
    "test_cases = [\n",
    "    ([3, 2, 0, -4], 1, True),     # Cycle at node with value 2\n",
    "    ([1, 2], 0, True),           # Cycle at node with value 1\n",
    "    ([1], -1, False),            # No cycle\n",
    "    ([1, 2, 3], -1, False),      # No cycle\n",
    "    ([1], 0, True),              # One node that cycles to itself\n",
    "]\n",
    "\n",
    "for i, (values, pos, expected) in enumerate(test_cases):\n",
    "    head = build_linked_list_with_cycle(values, pos)\n",
    "    result = sol.hasCycle(head)\n",
    "    print(f\"Test case {i + 1}: {'Passed' if result == expected else 'Failed'}\")"
   ]
  }
 ],
 "metadata": {
  "kernelspec": {
   "display_name": "venv",
   "language": "python",
   "name": "python3"
  },
  "language_info": {
   "codemirror_mode": {
    "name": "ipython",
    "version": 3
   },
   "file_extension": ".py",
   "mimetype": "text/x-python",
   "name": "python",
   "nbconvert_exporter": "python",
   "pygments_lexer": "ipython3",
   "version": "3.13.2"
  }
 },
 "nbformat": 4,
 "nbformat_minor": 2
}
