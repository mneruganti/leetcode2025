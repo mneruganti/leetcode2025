{
 "cells": [
  {
   "cell_type": "code",
   "execution_count": 1,
   "metadata": {},
   "outputs": [],
   "source": [
    "# My Solution: Sliding Window + Hash Set\n",
    "\n",
    "class Solution_One(object):\n",
    "    def containsNearbyDuplicate(self, nums, k):\n",
    "        \"\"\"\n",
    "        :type nums: List[int]\n",
    "        :type k: int\n",
    "        :rtype: bool\n",
    "        \"\"\"\n",
    "        \n",
    "        # Define a window that holds a set of numbers within k elements from nums\n",
    "        window = set()\n",
    "        \n",
    "        # Loop through all elements\n",
    "        for i in range(len(nums)):\n",
    "            \n",
    "            # If there is a duplicate in window, return true\n",
    "            if nums[i] in window:\n",
    "                return True\n",
    "            \n",
    "            # add every element to the window\n",
    "            window.add(nums[i])\n",
    "            \n",
    "            # consecutively, if the length of the window exceeds k, remove the first element of the window (the oldest number)\n",
    "            # This works because it acts as a \"sliding window\" holding only k elements at a time, and moving down the line\n",
    "            if len(window) > k:\n",
    "                window.remove(nums[i - k])\n",
    "        return False"
   ]
  },
  {
   "cell_type": "code",
   "execution_count": 2,
   "metadata": {},
   "outputs": [],
   "source": [
    "# Most Efficient Solution: Hash Map\n",
    "\n",
    "class Solution_Two(object):\n",
    "     def containsNearbyDuplicate(self, nums, k):\n",
    "        seen = {}\n",
    "        \n",
    "        # loop through each key-value pair \n",
    "        for i, num in enumerate(nums):\n",
    "            \n",
    "            # if the duplicate is in the seen set and the distance between the current\n",
    "            # index and where the uplicate is in seen is less than or equal to k, return True\n",
    "            if num in seen and i - seen[num] <= k:\n",
    "                return True\n",
    "            \n",
    "            # Update the seen dict with the index\n",
    "            seen[num] = i  \n",
    "        return False"
   ]
  },
  {
   "cell_type": "code",
   "execution_count": 3,
   "metadata": {},
   "outputs": [
    {
     "name": "stdout",
     "output_type": "stream",
     "text": [
      "True\n",
      "True\n",
      "False\n",
      "False\n",
      "False\n",
      "False\n",
      "False\n"
     ]
    }
   ],
   "source": [
    "sol1 = Solution_One()\n",
    "\n",
    "# Normal cases\n",
    "print(sol1.containsNearbyDuplicate([1,2,3,1], 3))   # True (1 appears again within k=3)\n",
    "print(sol1.containsNearbyDuplicate([1,0,1,1], 1))    # True (consecutive 1s)\n",
    "print(sol1.containsNearbyDuplicate([1,2,3,4,5], 2))  # False (no duplicates)\n",
    "\n",
    "# Edge cases\n",
    "print(sol1.containsNearbyDuplicate([], 1))           # False (empty array)\n",
    "print(sol1.containsNearbyDuplicate([1], 0))          # False (single element)\n",
    "print(sol1.containsNearbyDuplicate([1,1], 0))        # False (k=0 means no valid pairs)\n",
    "print(sol1.containsNearbyDuplicate([1,2,3,4,5], 0))  # False (k=0)"
   ]
  },
  {
   "cell_type": "code",
   "execution_count": 4,
   "metadata": {},
   "outputs": [
    {
     "name": "stdout",
     "output_type": "stream",
     "text": [
      "True\n",
      "True\n",
      "False\n",
      "False\n",
      "False\n",
      "False\n",
      "False\n"
     ]
    }
   ],
   "source": [
    "sol2 = Solution_Two()\n",
    "\n",
    "# Normal cases\n",
    "print(sol2.containsNearbyDuplicate([1,2,3,1], 3))   # True (1 appears again within k=3)\n",
    "print(sol2.containsNearbyDuplicate([1,0,1,1], 1))    # True (consecutive 1s)\n",
    "print(sol2.containsNearbyDuplicate([1,2,3,4,5], 2))  # False (no duplicates)\n",
    "\n",
    "# Edge cases\n",
    "print(sol2.containsNearbyDuplicate([], 1))           # False (empty array)\n",
    "print(sol2.containsNearbyDuplicate([1], 0))          # False (single element)\n",
    "print(sol2.containsNearbyDuplicate([1,1], 0))        # False (k=0 means no valid pairs)\n",
    "print(sol2.containsNearbyDuplicate([1,2,3,4,5], 0))  # False (k=0)"
   ]
  }
 ],
 "metadata": {
  "kernelspec": {
   "display_name": "venv",
   "language": "python",
   "name": "python3"
  },
  "language_info": {
   "codemirror_mode": {
    "name": "ipython",
    "version": 3
   },
   "file_extension": ".py",
   "mimetype": "text/x-python",
   "name": "python",
   "nbconvert_exporter": "python",
   "pygments_lexer": "ipython3",
   "version": "3.13.2"
  }
 },
 "nbformat": 4,
 "nbformat_minor": 2
}
