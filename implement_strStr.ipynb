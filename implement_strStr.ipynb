{
 "cells": [
  {
   "cell_type": "code",
   "execution_count": null,
   "metadata": {},
   "outputs": [],
   "source": [
    "# My Solution:\n",
    "\n",
    "class Solution(object):\n",
    "    def strStr(self, haystack, needle):\n",
    "        \"\"\"\n",
    "        :type haystack: str\n",
    "        :type needle: str\n",
    "        :rtype: int\n",
    "        \"\"\"\n",
    "        \n",
    "        # create a list of words where every increment is in len(needle), using x as the sliding window factor\n",
    "        # x will have to depend on the difference of the length of the haystack - needle + 1 (to make it inclusive)\n",
    "        # The sliding window will move down in increments of len(needle), using a list comprehension to accomplish this\n",
    "        list_of_words = [haystack[x:x+len(needle)] for x in range(len(haystack) - len(needle) + 1)]\n",
    "        \n",
    "        # if the needle is in the list, return its index of first occurence, otherwise return -1\n",
    "        if needle in list_of_words:\n",
    "            return list_of_words.index(needle)\n",
    "        return -1\n",
    "\n",
    "        "
   ]
  }
 ],
 "metadata": {
  "kernelspec": {
   "display_name": "venv",
   "language": "python",
   "name": "python3"
  },
  "language_info": {
   "name": "python",
   "version": "3.13.2"
  }
 },
 "nbformat": 4,
 "nbformat_minor": 2
}
