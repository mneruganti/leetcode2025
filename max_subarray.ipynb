{
 "cells": [
  {
   "cell_type": "code",
   "execution_count": 2,
   "metadata": {},
   "outputs": [
    {
     "name": "stdout",
     "output_type": "stream",
     "text": [
      "6\n",
      "1\n",
      "23\n"
     ]
    }
   ],
   "source": [
    "# My Solution: \n",
    "\n",
    "class Solution(object):\n",
    "    def maxSubArray(self, nums):\n",
    "        \"\"\"\n",
    "        :type nums: List[int]\n",
    "        :rtype: int\n",
    "        \"\"\"\n",
    "        \n",
    "        # I initilize two variables:\n",
    "        # One to calculate the total sum as we add an element of the array\n",
    "        # One to hold the max_sum calculated so far (I just set this to the lowest possible number)\n",
    "        sum = 0\n",
    "        max_sum = float('-inf')\n",
    "        \n",
    "        # Loop through all the indicies of the array\n",
    "        for i in range(len(nums)):\n",
    "            \n",
    "            # Add each array element to the sum variable\n",
    "            sum += nums[i]\n",
    "            \n",
    "            # If the sum is greater than the max so far, update the max variable\n",
    "            if(sum > max_sum):\n",
    "                max_sum = sum\n",
    "            \n",
    "            # If the sum goes below 0, then it is no longer the highest sum,\n",
    "            # So update the sum variable back to 0 to reset it for the next subarray\n",
    "            if(sum < 0):\n",
    "                sum = 0\n",
    "        \n",
    "        # after all iterations, return the max_sum calculated\n",
    "        return max_sum\n",
    "\n",
    "sol = Solution()\n",
    "print(sol.maxSubArray([-2,1,-3,4,-1,2,1,-5,4])) # Expected: 6\n",
    "print(sol.maxSubArray([1])) # Expected: 1\n",
    "print(sol.maxSubArray([5,4,-1,7,8])) # Expected: 23"
   ]
  }
 ],
 "metadata": {
  "kernelspec": {
   "display_name": "venv",
   "language": "python",
   "name": "python3"
  },
  "language_info": {
   "codemirror_mode": {
    "name": "ipython",
    "version": 3
   },
   "file_extension": ".py",
   "mimetype": "text/x-python",
   "name": "python",
   "nbconvert_exporter": "python",
   "pygments_lexer": "ipython3",
   "version": "3.13.2"
  }
 },
 "nbformat": 4,
 "nbformat_minor": 2
}
