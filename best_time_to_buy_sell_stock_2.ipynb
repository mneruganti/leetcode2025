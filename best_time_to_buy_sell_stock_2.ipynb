{
 "cells": [
  {
   "cell_type": "code",
   "execution_count": 2,
   "metadata": {},
   "outputs": [
    {
     "name": "stdout",
     "output_type": "stream",
     "text": [
      "4\n",
      "7\n",
      "0\n"
     ]
    }
   ],
   "source": [
    "# My Solution:\n",
    "\n",
    "class Solution(object):\n",
    "    def maxProfit(self, prices):\n",
    "        \"\"\"\n",
    "        :type prices: List[int]\n",
    "        :rtype: int\n",
    "        \"\"\"\n",
    "        \n",
    "        # These are checks that automatically return 0 if the list is null or only has one item\n",
    "        if not prices or len(prices) == 1:\n",
    "            return 0\n",
    "        \n",
    "        # define a variable to keep track of the total profit\n",
    "        total_profit = 0\n",
    "        \n",
    "        # use a for loop that iterates through every index but the first (since we are using i-1)\n",
    "        for i in range(1, len(prices)):\n",
    "            \n",
    "            # if the current price is higher than the previous price, this indicates that it\n",
    "            # is a good stock to buy and sell. Since that is the case, we add it to the total profit\n",
    "            # by subtracting the current and previous price (buy low sell high)\n",
    "            if prices[i] > prices[i-1]:\n",
    "                total_profit += prices[i] - prices[i-1]\n",
    "            \n",
    "        # return the total profit at the end of the loop\n",
    "        return total_profit\n",
    "    \n",
    "sol = Solution()\n",
    "\n",
    "print(sol.maxProfit([1,2,3,4,5])) # Expected Output: 4\n",
    "print(sol.maxProfit([7,1,5,3,6,4])) # Expected Output: 7\n",
    "print(sol.maxProfit([7,6,4,3,1])) # Expected Output: 0"
   ]
  }
 ],
 "metadata": {
  "kernelspec": {
   "display_name": "venv",
   "language": "python",
   "name": "python3"
  },
  "language_info": {
   "codemirror_mode": {
    "name": "ipython",
    "version": 3
   },
   "file_extension": ".py",
   "mimetype": "text/x-python",
   "name": "python",
   "nbconvert_exporter": "python",
   "pygments_lexer": "ipython3",
   "version": "3.13.2"
  }
 },
 "nbformat": 4,
 "nbformat_minor": 2
}
