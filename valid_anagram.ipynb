{
 "cells": [
  {
   "cell_type": "code",
   "execution_count": 1,
   "metadata": {},
   "outputs": [],
   "source": [
    "# My Solution: Dictionaries\n",
    "\n",
    "class Solution(object):\n",
    "    def isAnagram(self, s, t):\n",
    "        \"\"\"\n",
    "        :type s: str\n",
    "        :type t: str\n",
    "        :rtype: bool\n",
    "        \"\"\"\n",
    "\n",
    "        s1 = {}\n",
    "        s2 = {}\n",
    "\n",
    "        # For every character in the first string, if the dict is empty or the character is not already\n",
    "        # a key of the first dict, add the char as a key and add a value of one representing 1 count for the letter\n",
    "        # If the char already exists in the dict, increment the count by 1.\n",
    "        for char in s:\n",
    "            if ((not s1) or (char not in s1.keys())):\n",
    "                s1[char] = 1\n",
    "            else:\n",
    "                s1[char] = s1[char] + 1\n",
    "                \n",
    "        # Follow the same process for the second string\n",
    "        for char in t:\n",
    "            if ((not s2) or (char not in s2.keys())):\n",
    "                s2[char] = 1\n",
    "            else:\n",
    "                s2[char] = s2[char] + 1\n",
    "        \n",
    "        # Compare the two dictionaries and return the result\n",
    "        return s1 == s2\n",
    "        \n"
   ]
  },
  {
   "cell_type": "code",
   "execution_count": 3,
   "metadata": {},
   "outputs": [
    {
     "name": "stdout",
     "output_type": "stream",
     "text": [
      "True\n",
      "False\n",
      "True\n",
      "False\n"
     ]
    }
   ],
   "source": [
    "sol = Solution()\n",
    "\n",
    "print(sol.isAnagram(\"anagram\",\"nagaram\")) # Expected: True\n",
    "print(sol.isAnagram(\"rat\",\"car\")) # Expected: False\n",
    "print(sol.isAnagram(\"solved\",\"dosvel\")) # Expected: True\n",
    "print(sol.isAnagram(\"racecar\",\"carracee\")) # Expected: False"
   ]
  }
 ],
 "metadata": {
  "kernelspec": {
   "display_name": "venv",
   "language": "python",
   "name": "python3"
  },
  "language_info": {
   "codemirror_mode": {
    "name": "ipython",
    "version": 3
   },
   "file_extension": ".py",
   "mimetype": "text/x-python",
   "name": "python",
   "nbconvert_exporter": "python",
   "pygments_lexer": "ipython3",
   "version": "3.13.2"
  }
 },
 "nbformat": 4,
 "nbformat_minor": 2
}
